{
 "cells": [
  {
   "cell_type": "markdown",
   "id": "7059cb54-b8a9-4ce9-9a26-a857cb84fbe5",
   "metadata": {},
   "source": [
    "# 🕵️ Fraud Detection - Insurance Company project\n",
    "\n",
    "An insurance company hires a team of data scientists to work as consultants in the fraud department. Currently, policies that are issued are monitored and any claims submitted are reviewed and evaluated, manually, to determine legitimacy and final approval for payment by the organization. \n",
    "\n",
    "**It is the role of the fraud team to determine which claims submitted should be approved and which should be should be rejected**.\n",
    "\n",
    "Team's task is to answer the following question: **Are there particular trends in the groups of claims submitted that may be indicative of fraud?**\n",
    "\n",
    "![insurance-analysis](img/thumbnail.jpg)\n",
    "\n",
    "---\n",
    "\n",
    "### Data preview\n",
    "\n",
    "The finance department has provided them with data on all recent claims made by 1,000 customers. The data is not labeled; that is, there is no variable to tell us which of these claims are fraudulent or not."
   ]
  },
  {
   "cell_type": "code",
   "execution_count": 1,
   "id": "319e8a85-9d64-4e5b-8b57-884653d8adb0",
   "metadata": {},
   "outputs": [],
   "source": [
    "# Importing all the necessary libraries\n",
    "\n",
    "import pandas as pd\n",
    "import matplotlib.pyplot as plt\n",
    "import seaborn as sns\n",
    "%matplotlib inline"
   ]
  },
  {
   "cell_type": "code",
   "execution_count": 2,
   "id": "7cf91816-9580-4f51-a660-f2fce29b4fbc",
   "metadata": {},
   "outputs": [],
   "source": [
    "# Obtaining data provided by the finance department\n",
    "\n",
    "df = pd.read_csv('data/insurance_data_1000.csv')"
   ]
  },
  {
   "cell_type": "code",
   "execution_count": 3,
   "id": "837f3de7-b992-417b-bec4-425a9c672844",
   "metadata": {},
   "outputs": [
    {
     "data": {
      "text/html": [
       "<div>\n",
       "<style scoped>\n",
       "    .dataframe tbody tr th:only-of-type {\n",
       "        vertical-align: middle;\n",
       "    }\n",
       "\n",
       "    .dataframe tbody tr th {\n",
       "        vertical-align: top;\n",
       "    }\n",
       "\n",
       "    .dataframe thead th {\n",
       "        text-align: right;\n",
       "    }\n",
       "</style>\n",
       "<table border=\"1\" class=\"dataframe\">\n",
       "  <thead>\n",
       "    <tr style=\"text-align: right;\">\n",
       "      <th></th>\n",
       "      <th>case_id</th>\n",
       "      <th>income</th>\n",
       "      <th>age</th>\n",
       "      <th>sex</th>\n",
       "      <th>approval</th>\n",
       "      <th>fraud</th>\n",
       "      <th>claims</th>\n",
       "    </tr>\n",
       "  </thead>\n",
       "  <tbody>\n",
       "    <tr>\n",
       "      <th>0</th>\n",
       "      <td>59982</td>\n",
       "      <td>35750.95</td>\n",
       "      <td>42</td>\n",
       "      <td>M</td>\n",
       "      <td>Approved</td>\n",
       "      <td>Under Review</td>\n",
       "      <td>9518.95</td>\n",
       "    </tr>\n",
       "    <tr>\n",
       "      <th>1</th>\n",
       "      <td>87249</td>\n",
       "      <td>24078.27</td>\n",
       "      <td>19</td>\n",
       "      <td>M</td>\n",
       "      <td>Denied</td>\n",
       "      <td>No</td>\n",
       "      <td>19354.23</td>\n",
       "    </tr>\n",
       "    <tr>\n",
       "      <th>2</th>\n",
       "      <td>50406</td>\n",
       "      <td>39241.52</td>\n",
       "      <td>37</td>\n",
       "      <td>M</td>\n",
       "      <td>Denied</td>\n",
       "      <td>Fraud</td>\n",
       "      <td>13056.04</td>\n",
       "    </tr>\n",
       "    <tr>\n",
       "      <th>3</th>\n",
       "      <td>59391</td>\n",
       "      <td>33248.31</td>\n",
       "      <td>26</td>\n",
       "      <td>M</td>\n",
       "      <td>Approved</td>\n",
       "      <td>No</td>\n",
       "      <td>19238.37</td>\n",
       "    </tr>\n",
       "    <tr>\n",
       "      <th>4</th>\n",
       "      <td>96622</td>\n",
       "      <td>38649.96</td>\n",
       "      <td>54</td>\n",
       "      <td>M</td>\n",
       "      <td>Approved</td>\n",
       "      <td>No</td>\n",
       "      <td>14427.42</td>\n",
       "    </tr>\n",
       "  </tbody>\n",
       "</table>\n",
       "</div>"
      ],
      "text/plain": [
       "   case_id    income  age sex  approval         fraud    claims\n",
       "0    59982  35750.95   42   M  Approved  Under Review   9518.95\n",
       "1    87249  24078.27   19   M    Denied            No  19354.23\n",
       "2    50406  39241.52   37   M    Denied         Fraud  13056.04\n",
       "3    59391  33248.31   26   M  Approved            No  19238.37\n",
       "4    96622  38649.96   54   M  Approved            No  14427.42"
      ]
     },
     "execution_count": 3,
     "metadata": {},
     "output_type": "execute_result"
    }
   ],
   "source": [
    "# preview of the table\n",
    "\n",
    "df.head()"
   ]
  },
  {
   "cell_type": "markdown",
   "id": "31dc4e98-ec44-47dc-af36-bde0f3b7947e",
   "metadata": {},
   "source": [
    "Here is a description of what represents each column:\n",
    "\n",
    "- **case_id**: A unique identifier for each insurance case or claim. This field is likely a numerical value that differentiates one case from another.\n",
    "- **income**: The annual income of the individual associated with the insurance case. This field is represented as a floating-point number and indicates the financial status of the policyholder.\n",
    "- **age**: The age of the individual associated with the insurance case. This is an integer value representing how old the person is.\n",
    "- **sex**: The gender of the individual associated with the insurance case. It is likely represented as 'M' for male and 'F' for female.\n",
    "- **approval**: The status of the insurance claim. This field indicates whether the claim was \"Approved\" or \"Denied.\"\n",
    "- **fraud**: A categorical field indicating whether the insurance claim is under investigation for fraud. It might show values like \"No\" for non-fraudulent claims and \"Under Review\" or \"Fraud\" for those under suspicion.\n",
    "- **claims**: The monetary amount of the insurance claims made by the individual. This field is a floating-point number representing the total value of the claims. ​"
   ]
  },
  {
   "cell_type": "code",
   "execution_count": null,
   "id": "ada89630-a5e5-4e7d-8199-810fc56e5ba2",
   "metadata": {},
   "outputs": [],
   "source": []
  }
 ],
 "metadata": {
  "kernelspec": {
   "display_name": "Python 3 (ipykernel)",
   "language": "python",
   "name": "python3"
  },
  "language_info": {
   "codemirror_mode": {
    "name": "ipython",
    "version": 3
   },
   "file_extension": ".py",
   "mimetype": "text/x-python",
   "name": "python",
   "nbconvert_exporter": "python",
   "pygments_lexer": "ipython3",
   "version": "3.11.4"
  }
 },
 "nbformat": 4,
 "nbformat_minor": 5
}
